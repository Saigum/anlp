{
 "cells": [
  {
   "cell_type": "code",
   "execution_count": 1,
   "metadata": {},
   "outputs": [
    {
     "name": "stdout",
     "output_type": "stream",
     "text": [
      "AttnVariant.MASKED_SLOW_MULTIHEADED\n"
     ]
    }
   ],
   "source": [
    "from enum import Enum\n",
    "class AttnVariant(Enum):\n",
    "    SLOW_MULTIHEADED=1\n",
    "    MASKED_SLOW_MULTIHEADED=2\n",
    "    FAST_MULTIHEADED=3\n",
    "    FAST_SELFMHA=4\n",
    "print(AttnVariant(2))"
   ]
  },
  {
   "cell_type": "code",
   "execution_count": null,
   "metadata": {},
   "outputs": [],
   "source": []
  }
 ],
 "metadata": {
  "kernelspec": {
   "display_name": "torch",
   "language": "python",
   "name": "python3"
  },
  "language_info": {
   "codemirror_mode": {
    "name": "ipython",
    "version": 3
   },
   "file_extension": ".py",
   "mimetype": "text/x-python",
   "name": "python",
   "nbconvert_exporter": "python",
   "pygments_lexer": "ipython3",
   "version": "3.10.12"
  }
 },
 "nbformat": 4,
 "nbformat_minor": 2
}
